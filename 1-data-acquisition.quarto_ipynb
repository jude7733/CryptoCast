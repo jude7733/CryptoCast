{
  "cells": [
    {
      "cell_type": "markdown",
      "metadata": {},
      "source": [
        "---\n",
        "title: \"data_loader\"\n",
        "format: html\n",
        "---\n",
        "\n",
        "\n",
        "## Dataset downloader using python kaggle\n",
        "\n",
        "\n",
        "```{bash}\n",
        "uv run kaggle datasets download -d daniyalatta/top-50-cryptocurrencies-historical2020-2025-1h --unzip\n",
        "```"
      ],
      "id": "92f56cf3"
    }
  ],
  "metadata": {
    "kernelspec": {
      "display_name": "Python 3",
      "language": "python",
      "name": "python3"
    }
  },
  "nbformat": 4,
  "nbformat_minor": 5
}